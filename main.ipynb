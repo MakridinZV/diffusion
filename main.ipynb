{
 "cells": [
  {
   "cell_type": "code",
   "execution_count": 14,
   "metadata": {},
   "outputs": [],
   "source": [
    "from module import step_function\r\n",
    "from module import sweep\r\n",
    "from module import solve\r\n",
    "from module import graph\r\n",
    "import matplotlib.pyplot as plt"
   ]
  },
  {
   "cell_type": "code",
   "execution_count": 15,
   "metadata": {},
   "outputs": [
    {
     "ename": "TypeError",
     "evalue": "graph() missing 1 required positional argument: 'un'",
     "output_type": "error",
     "traceback": [
      "\u001b[1;31m---------------------------------------------------------------------------\u001b[0m",
      "\u001b[1;31mTypeError\u001b[0m                                 Traceback (most recent call last)",
      "\u001b[1;32m<ipython-input-15-d7b58679ed52>\u001b[0m in \u001b[0;36m<module>\u001b[1;34m\u001b[0m\n\u001b[0;32m      7\u001b[0m     \u001b[0mD\u001b[0m\u001b[1;33m=\u001b[0m\u001b[1;36m5E-5\u001b[0m\u001b[1;33m,\u001b[0m\u001b[1;33m\u001b[0m\u001b[1;33m\u001b[0m\u001b[0m\n\u001b[0;32m      8\u001b[0m     \u001b[0mcoefficients\u001b[0m\u001b[1;33m=\u001b[0m\u001b[1;33m(\u001b[0m\u001b[1;36m3.762E-6\u001b[0m\u001b[1;33m,\u001b[0m \u001b[1;36m1.285E-10\u001b[0m\u001b[1;33m,\u001b[0m\u001b[1;36m4.066E-10\u001b[0m\u001b[1;33m,\u001b[0m \u001b[1;36m0.015\u001b[0m\u001b[1;33m)\u001b[0m\u001b[1;33m,\u001b[0m\u001b[1;33m\u001b[0m\u001b[1;33m\u001b[0m\u001b[0m\n\u001b[1;32m----> 9\u001b[1;33m     \u001b[0mu0\u001b[0m\u001b[1;33m=\u001b[0m\u001b[1;36m1400\u001b[0m\u001b[1;33m\u001b[0m\u001b[1;33m\u001b[0m\u001b[0m\n\u001b[0m\u001b[0;32m     10\u001b[0m )\n",
      "\u001b[1;31mTypeError\u001b[0m: graph() missing 1 required positional argument: 'un'"
     ]
    }
   ],
   "source": [
    "graph(\r\n",
    "    initial_data_func=step_function,\r\n",
    "    T=400,\r\n",
    "    L=1,\r\n",
    "    F=0.2,\r\n",
    "    dt=0.1,\r\n",
    "    D=5E-5,\r\n",
    "    coefficients=(3.762E-6, 1.285E-10,4.066E-10, 0.015),\r\n",
    "    u0=1400\r\n",
    ")"
   ]
  },
  {
   "cell_type": "code",
   "execution_count": null,
   "metadata": {},
   "outputs": [],
   "source": []
  }
 ],
 "metadata": {
  "interpreter": {
   "hash": "2ac96d4963dc03f75df5cdf859cac627916d66dd0db2c6c051c39bdb6b987ff1"
  },
  "kernelspec": {
   "display_name": "Python 3.7.4 64-bit ('base': conda)",
   "name": "python3"
  },
  "language_info": {
   "codemirror_mode": {
    "name": "ipython",
    "version": 3
   },
   "file_extension": ".py",
   "mimetype": "text/x-python",
   "name": "python",
   "nbconvert_exporter": "python",
   "pygments_lexer": "ipython3",
   "version": "3.7.4"
  },
  "orig_nbformat": 4
 },
 "nbformat": 4,
 "nbformat_minor": 2
}